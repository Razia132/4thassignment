{
  "nbformat": 4,
  "nbformat_minor": 0,
  "metadata": {
    "colab": {
      "provenance": []
    },
    "kernelspec": {
      "name": "python3",
      "display_name": "Python 3"
    },
    "language_info": {
      "name": "python"
    }
  },
  "cells": [
    {
      "cell_type": "markdown",
      "source": [
        "# **OOPS**\n",
        "1.What is Object-Oriented Programming (OOP)?\n",
        "\n",
        "-->OOP mainly deals with objects and classes and OOP is used to arrange the functions in their respective classes.\n",
        "\n",
        "2.What is a class in OOP?\n",
        "\n",
        "-->class is a blueprint of an object or we can say class is not a real world entity.\n",
        "\n",
        "3.What is an object in OOP?\n",
        "\n",
        "-->A real world entity,when object is created then only memory for the class attributes are allocated.\n",
        "\n",
        "4.What is the difference between abstraction and encapsulation?\n",
        "\n",
        "-->abstraction:Hiding unnecessary day instead showing only visible.\n",
        "  encapsulation:Bundling of data and methods of a class.\n",
        "\n",
        "5.What are dunder methods in Python?\n",
        "\n",
        "-->also know as magic methods or special methods defined by built-in classes in python.ex:\"__init__\",\"__str__\",\"__new__\".\n",
        "\n",
        "6.Explain the concept of inheritance in OOP?\n",
        "\n",
        "-->inheriting the properties such as attributes,methods from one class to other.\n",
        "\n",
        "7.What is polymorphism in OOP?\n",
        "\n",
        "-->Having many forms example:def fun(a,b):\n",
        "    return a+b\n",
        "    fun(2,3)#o/p:5\n",
        "    fun([1,2],[3,4])#[1,2,3,4]\n",
        "    here fun()method is behaving differently in different situations ,that is having many forms\n",
        "\n",
        "8.How is encapsulation achieved in Python?\n",
        "\n",
        "-->by using access modifiers to access the data.\n",
        "\n",
        "9.What is a constructor in Python?\n",
        "\n",
        "-->__init__ is a constructor in the python which does not need any type of special object creation just by creating object to the class it is automatically invoked ,primarily used to initialize the variables.\n",
        "\n",
        "10.What are class and static methods in Python?\n",
        "\n",
        "-->in class method we will be using cls as first parameter and it bounds to the class ,also attributes can be accessed/modified ,defined as decorators i.e @classmethod\n",
        " where as stactic method does not need any special parameters just works as normal fuction also defined as decorators i.e @staticmethod\n",
        "\n",
        "11.What is method overloading in Python?\n",
        "\n",
        "-->python does not support pure method overloading .but overloading means methods having name same name but different with respect to their count,type and number of parameters.\n",
        "\n",
        "12.What is method overriding in OOP?\n",
        "\n",
        "-->achieved in inheritance when both parent and child classes have same method name,but child class method gets executed because it overrides the parent class method.\n",
        "\n",
        "13.What is a property decorator in Python?\n",
        "\n",
        "-->property decorators are used to access /modify private variables of the class\n",
        "\n",
        "14.Why is polymorphism important in OOP?\n",
        "\n",
        "-->polymorphism is important in OOP because once a method is define we can use that method in different sutuations.\n",
        "\n",
        "15.What is an abstract class in Python?\n",
        "\n",
        "-->an abstract class cannot be instantiated,just the methods are declared which need to be defined in another subclass.\n",
        "\n",
        "16.What are the advantages of OOP?\n",
        "\n",
        "-->code reusability,data hiding,data grouping .etc.\n",
        "\n",
        "17.What is the difference between a class variable and an instance variable?\n",
        "\n",
        "-->class variables are shared among all instances where as instance varible only for each class.\n",
        "\n",
        "18.What is multiple inheritance in Python?\n",
        "\n",
        "-->multiple parent classes and one child class.\n",
        "\n",
        "19.Explain the purpose of ‘’__str__’ and ‘__repr__’ ‘ methods in Python.\n",
        "\n",
        "-->'__str__' used for converting objects to strings.and'__repr__' returns a printable object.\n",
        "\n",
        "20.What is the significance of the ‘super()’ function in Python?\n",
        "\n",
        "-->for accessing __init__ method of the super class.\n",
        "\n",
        "21.What is the significance of the __del__ method in Python?\n",
        "\n",
        "-->known as distructor used when object is about to get distracted.\n",
        "\n",
        "22.What is the difference between @staticmethod and @classmethod in Python?\n",
        "\n",
        "-->@classmethod the method should access the class using cls parameter,but in @staticmethod no such parameters.\n",
        "\n",
        "23.How does polymorphism work in Python with inheritance?\n",
        "\n",
        "-->when same method of subclass overrides the method of superclass.\n",
        "\n",
        "24.What is method chaining in Python OOP?\n",
        "\n",
        "-->calling multiple methods by a sigle object.\n",
        "\n",
        "25.What is the purpose of the __call__ method in Python?\n",
        "\n",
        "-->main motive is to write like a class and invoke like a function.\n"
      ],
      "metadata": {
        "id": "f5bKirCFK9ri"
      }
    },
    {
      "cell_type": "code",
      "source": [
        "#1. Create a parent class Animal with a method speak() that prints a generic message. Create a child class Dog that overrides the speak() method to print \"Bark!\".\n",
        "class Animal:\n",
        "  def speak(self):\n",
        "    print(\"Generic animal sound\")\n",
        "class Dog(Animal):\n",
        "  def speak(self):\n",
        "    print(\"Bark!\")\n",
        "dog=Dog()\n",
        "dog.speak()"
      ],
      "metadata": {
        "id": "dTEXruC4NC3B",
        "colab": {
          "base_uri": "https://localhost:8080/"
        },
        "outputId": "265f036d-72e1-4fca-acb5-1f601e1c9d83"
      },
      "execution_count": null,
      "outputs": [
        {
          "output_type": "stream",
          "name": "stdout",
          "text": [
            "Bark!\n"
          ]
        }
      ]
    },
    {
      "cell_type": "code",
      "source": [
        "#2. Write a program to create an abstract class Shape with a method area(). Derive classes Circle and Rectangle from it and implement the area() method in both.\n",
        "from abc import ABC,abstractmethod\n",
        "class Shape(ABC):\n",
        "  def area(self):\n",
        "    pass\n",
        "class Circle(Shape):\n",
        "  def shape(self):\n",
        "    print(\"circle\")\n",
        "class Rectangle(Shape):\n",
        "  def shape(self):\n",
        "    print(\"rectangle\")\n",
        "obj1=Circle()\n",
        "obj1.shape()\n",
        "obj2=Rectangle()\n",
        "obj2.shape()"
      ],
      "metadata": {
        "id": "gzIy59fbNDnt",
        "colab": {
          "base_uri": "https://localhost:8080/"
        },
        "outputId": "ba2c4f97-dc71-4310-d597-5e1be91417e0"
      },
      "execution_count": null,
      "outputs": [
        {
          "output_type": "stream",
          "name": "stdout",
          "text": [
            "circle\n",
            "rectangle\n"
          ]
        }
      ]
    },
    {
      "cell_type": "code",
      "source": [
        "#3. Implement a multi-level inheritance scenario where a class Vehicle has an attribute type. Derive a class Car and further derive a class ElectricCar that adds a battery attribute\n",
        "class Vehicle:\n",
        "  def __init__(self,type):\n",
        "    self.type=type\n",
        "class Car(Vehicle):\n",
        "  def __init__(self,brand):\n",
        "    super().__init__(\"car\")\n",
        "    self.brand=brand\n",
        "class ElectricCar(Car):\n",
        "  def __init__(self,battery):\n",
        "    super().__init__(\"honda\")\n",
        "    self.battery=battery\n",
        "obj=Vehicle(\"car\")\n",
        "obj1,obj2=Car(\"honda\"),ElectricCar(\"lithium-ion batteries\")\n",
        "obj.type\n",
        "obj1.type\n",
        "obj2.type\n",
        "obj2.battery\n",
        "obj2.brand"
      ],
      "metadata": {
        "id": "7UksYOTZNDqi",
        "colab": {
          "base_uri": "https://localhost:8080/",
          "height": 36
        },
        "outputId": "592610a4-c0a0-4f0e-8947-f4498da6e793"
      },
      "execution_count": null,
      "outputs": [
        {
          "output_type": "execute_result",
          "data": {
            "text/plain": [
              "'honda'"
            ],
            "application/vnd.google.colaboratory.intrinsic+json": {
              "type": "string"
            }
          },
          "metadata": {},
          "execution_count": 17
        }
      ]
    },
    {
      "cell_type": "code",
      "source": [
        "#4. Demonstrate polymorphism by creating a base class Bird with a method fly(). Create two derived classes Sparrow and Penguin that override the fly() method.\n",
        "class Bird:\n",
        "  def fly(self):\n",
        "    print(\"bird can fly\")\n",
        "class Sparrow(Bird):\n",
        "  def fly(self):\n",
        "    print(\"sparrow can fly\")\n",
        "class Penguin(Bird):\n",
        "  def fly(self):\n",
        "    print(\"penguin can not fly\")\n",
        "obj=Bird()\n",
        "obj1=Sparrow()\n",
        "obj2=Penguin()\n",
        "obj1.fly()\n",
        "obj2.fly()"
      ],
      "metadata": {
        "id": "r9EczxtDNDtN",
        "colab": {
          "base_uri": "https://localhost:8080/"
        },
        "outputId": "8ced819c-da0d-41ca-e311-a435f72a7b43"
      },
      "execution_count": null,
      "outputs": [
        {
          "output_type": "stream",
          "name": "stdout",
          "text": [
            "sparrow can fly\n",
            "penguin can not fly\n"
          ]
        }
      ]
    },
    {
      "cell_type": "code",
      "source": [
        "#5. Write a program to demonstrate encapsulation by creating a class BankAccount with private attributes balance and methods to deposit, withdraw, and check balance\n",
        "class BankAccount:\n",
        "    def __init__(self,balance):\n",
        "        self.__balance=balance\n",
        "    def deposite(self,amount):\n",
        "        self.__balance=self.__balance+amount\n",
        "    def withdraw(self,amount):\n",
        "        if(amount>self.__balance):\n",
        "            print(\"invalid amount\")\n",
        "        else:\n",
        "            self.__balance=self.__balance-amount\n",
        "    def checkBalance(self):\n",
        "        return self.__balance\n",
        "obj=BankAccount(5000)\n",
        "obj.checkBalance()#here we are accessing the private members\n",
        "obj.deposite(200)\n",
        "obj.checkBalance()\n",
        "obj.withdraw(500)\n",
        "obj.checkBalance()\n"
      ],
      "metadata": {
        "id": "mFrX9_d5NDwJ"
      },
      "execution_count": null,
      "outputs": []
    },
    {
      "cell_type": "code",
      "source": [
        "#6. Demonstrate runtime polymorphism using a method play() in a base class Instrument. Derive classes Guitar and Piano that implement their own version of play().\n",
        "class Instrument:\n",
        "    def play(self):\n",
        "        print(\"Instrument can be played\")\n",
        "class Piano(Instrument):\n",
        "    def play(self):\n",
        "        print(\"A piano is an instrument and also can be played\")\n",
        "class Guitar(Instrument):\n",
        "    def play(self):\n",
        "        print(\"A guitar is also an  instrument and also can be played\")\n",
        "obj=Instrument()\n",
        "obj.play()\n",
        "obj1,obj2=Piano(),Guitar()\n",
        "obj1.play(),obj2.play()\n"
      ],
      "metadata": {
        "id": "iPSQ-kC5NDy_",
        "colab": {
          "base_uri": "https://localhost:8080/"
        },
        "outputId": "b3d78a18-e64d-486d-eb55-71cba282c0ed"
      },
      "execution_count": null,
      "outputs": [
        {
          "output_type": "stream",
          "name": "stdout",
          "text": [
            "Instrument can be played\n",
            "A piano is an instrument and also can be played\n",
            "A guitar is also an  instrument and also can be played\n"
          ]
        },
        {
          "output_type": "execute_result",
          "data": {
            "text/plain": [
              "(None, None)"
            ]
          },
          "metadata": {},
          "execution_count": 24
        }
      ]
    },
    {
      "cell_type": "code",
      "source": [
        "#7. Create a class MathOperations with a class method add_numbers() to add two numbers and a static method subtract_numbers() to subtract two numbers.\n",
        "class MathOperations:\n",
        "  def add_numbers(self,a,b):\n",
        "    return a+b\n",
        "  @staticmethod\n",
        "  def subtract_numbers(a,b):\n",
        "    return a-b\n",
        "obj=MathOperations()\n",
        "obj.add_numbers(2,3)\n",
        "obj.subtract_numbers(2,3)\n"
      ],
      "metadata": {
        "id": "L9NEdszBND11",
        "colab": {
          "base_uri": "https://localhost:8080/"
        },
        "outputId": "5e7d3b0f-0963-46bd-d564-b54a266049d0"
      },
      "execution_count": 2,
      "outputs": [
        {
          "output_type": "execute_result",
          "data": {
            "text/plain": [
              "-1"
            ]
          },
          "metadata": {},
          "execution_count": 2
        }
      ]
    },
    {
      "cell_type": "code",
      "source": [
        "\n",
        "#8. Implement a class Person with a class method to count the total number of persons created.\n",
        "class Person:\n",
        "  count=0\n",
        "  def __init__(self,name):\n",
        "    self.name=name\n",
        "    Person.count+=1\n",
        "  @classmethod\n",
        "  def totalpersons(cls):\n",
        "    return cls.count\n",
        "obj=Person(\"razia\")\n",
        "obj1=Person(\"nazima\")\n",
        "obj3=Person(\"Thanya\")\n",
        "Person.totalpersons()"
      ],
      "metadata": {
        "id": "jh-Xux4ZND4s",
        "colab": {
          "base_uri": "https://localhost:8080/"
        },
        "outputId": "5033e7be-1057-4473-bd99-5b669953be08"
      },
      "execution_count": 8,
      "outputs": [
        {
          "output_type": "execute_result",
          "data": {
            "text/plain": [
              "3"
            ]
          },
          "metadata": {},
          "execution_count": 8
        }
      ]
    },
    {
      "cell_type": "code",
      "source": [
        "# 9. Write a class Fraction with attributes numerator and denominator. Override the str method to display the fraction as \"numerator/denominator\".\n",
        "class Fraction:\n",
        "  def __init__(self,numerator,denominator):\n",
        "    self.numerator=numerator\n",
        "    self.denominator=denominator\n",
        "  def __str__(self):\n",
        "    return self.numerator/self.denominator\n",
        "obj=Fraction(2,3)\n",
        "obj.__str__()"
      ],
      "metadata": {
        "id": "862IYr5BND77",
        "colab": {
          "base_uri": "https://localhost:8080/"
        },
        "outputId": "4fe0d5b5-bd93-4c4a-9dcc-916de9f490f8"
      },
      "execution_count": 11,
      "outputs": [
        {
          "output_type": "execute_result",
          "data": {
            "text/plain": [
              "0.6666666666666666"
            ]
          },
          "metadata": {},
          "execution_count": 11
        }
      ]
    },
    {
      "cell_type": "code",
      "source": [
        "#10. Demonstrate operator overloading by creating a class Vector and overriding the add method to add two vectors.\n",
        "class Vector:\n",
        "    def __init__(self, x, y):\n",
        "        self.x = x\n",
        "        self.y = y\n",
        "    def __add__(self, other):\n",
        "        return Vector(self.x + other.x, self.y + other.y)\n",
        "    def __str__(self):\n",
        "        return f\"Vector({self.x}, {self.y})\"\n",
        "v1 = Vector(2, 3)\n",
        "v2 = Vector(4, 5)\n",
        "v3 = v1 + v2\n",
        "print(v3)"
      ],
      "metadata": {
        "id": "PKQPiXcgND-q",
        "colab": {
          "base_uri": "https://localhost:8080/"
        },
        "outputId": "b170c297-d395-45ae-b527-319ef4700d43"
      },
      "execution_count": 12,
      "outputs": [
        {
          "output_type": "stream",
          "name": "stdout",
          "text": [
            "Vector(6, 8)\n"
          ]
        }
      ]
    },
    {
      "cell_type": "code",
      "source": [
        "#11. Create a class Person with attributes name and age. Add a method greet() that prints \"Hello, my name is {name} and I am {age} years old.\"\n",
        "class Person:\n",
        "  def __init__(self,name,age):\n",
        "    self.name=name\n",
        "    self.age=age\n",
        "  def greet(self):\n",
        "    print(f\"hello this is {self.name},im {self.age} years old\")\n",
        "obj=Person(\"razia\",21)\n",
        "obj.greet()"
      ],
      "metadata": {
        "id": "FwgkM-TvNEBr",
        "colab": {
          "base_uri": "https://localhost:8080/"
        },
        "outputId": "a851649d-967e-4836-bbf9-8e8dc6d8ade1"
      },
      "execution_count": 16,
      "outputs": [
        {
          "output_type": "stream",
          "name": "stdout",
          "text": [
            "hello this is razia,im 21 years old\n"
          ]
        }
      ]
    },
    {
      "cell_type": "code",
      "source": [
        "#12. Implement a class Student with attributes name and grades. Create a method average_grade() to compute the average of the grades.\n",
        "class Student:\n",
        "  def __init__(self,name,grades):\n",
        "    self.name=name\n",
        "    self.grades=grades\n",
        "  def average_grade(self):\n",
        "    return sum(self.grades)/len(self.grades) if self.grades else 0\n",
        "obj=Student(\"razia\",[1,2,3,4,5])\n",
        "obj.average_grade()\n"
      ],
      "metadata": {
        "id": "Rpdz3wvWNEE4",
        "colab": {
          "base_uri": "https://localhost:8080/"
        },
        "outputId": "73b3c5bb-e815-4fcf-9185-95acef1c6f2d"
      },
      "execution_count": 18,
      "outputs": [
        {
          "output_type": "execute_result",
          "data": {
            "text/plain": [
              "3.0"
            ]
          },
          "metadata": {},
          "execution_count": 18
        }
      ]
    },
    {
      "cell_type": "code",
      "source": [
        "#13. Create a class Rectangle with methods set_dimensions() to set the dimensions and area() to calculate the area.\n",
        "class Rectangle:\n",
        "  def __init__(self,length,width):\n",
        "    self.length=length\n",
        "    self.width=width\n",
        "  def set_dimensions(self,length,width):\n",
        "    self.length=length\n",
        "    self.width=width\n",
        "  def area(self):\n",
        "    return self.length*self.width\n",
        "obj=Rectangle(2,3)\n",
        "obj.area()\n"
      ],
      "metadata": {
        "id": "FmayKbn0NEIC",
        "colab": {
          "base_uri": "https://localhost:8080/"
        },
        "outputId": "e929c3f7-4eec-4aae-c1c6-1de153e2ace8"
      },
      "execution_count": 19,
      "outputs": [
        {
          "output_type": "execute_result",
          "data": {
            "text/plain": [
              "6"
            ]
          },
          "metadata": {},
          "execution_count": 19
        }
      ]
    },
    {
      "cell_type": "code",
      "source": [
        "#14. Create a class Employee with a method calculate_salary() that computes the salary based on hours worked and hourly rate. Create a derived class Manager that adds a bonus to the salary.\n",
        "class Employee:\n",
        "  def __init__(self,name,hours_worked,hourly_rate):\n",
        "    self.name=name\n",
        "    self.hours_worked=hours_worked\n",
        "    self.hourly_rate=hourly_rate\n",
        "  def calculate_salary(self):\n",
        "    return self.hours_worked*self.hourly_rate\n",
        "obj=Employee(\"razia\",20,3500)\n",
        "obj.calculate_salary()"
      ],
      "metadata": {
        "id": "ZSzqQaHoNELJ",
        "colab": {
          "base_uri": "https://localhost:8080/"
        },
        "outputId": "f3dab2db-2b7f-48f7-d88a-04b2fde3aae3"
      },
      "execution_count": 22,
      "outputs": [
        {
          "output_type": "execute_result",
          "data": {
            "text/plain": [
              "70000"
            ]
          },
          "metadata": {},
          "execution_count": 22
        }
      ]
    },
    {
      "cell_type": "code",
      "source": [
        "#15. Create a class Product with attributes name, price, and quantity. Implement a method total_price() that calculates the total price of the product\n",
        "class Product1:\n",
        "  def __init__(self,name,price,quantity):\n",
        "    self.name=name\n",
        "    self.price=price\n",
        "    self.quantity=quantity\n",
        "  def total_price(self):\n",
        "    return self.price*self.quantity\n",
        "obj=Product1(\"mobile\",20000,2)\n",
        "obj.total_price()"
      ],
      "metadata": {
        "id": "WsWqaghkNEOV",
        "colab": {
          "base_uri": "https://localhost:8080/"
        },
        "outputId": "30e10493-1bed-47d0-d32a-2641f475c7fc"
      },
      "execution_count": 24,
      "outputs": [
        {
          "output_type": "execute_result",
          "data": {
            "text/plain": [
              "40000"
            ]
          },
          "metadata": {},
          "execution_count": 24
        }
      ]
    },
    {
      "cell_type": "code",
      "source": [
        "#16. Create a class Animal with an abstract method sound(). Create two derived classes Cow and Sheep that implement the sound() method.\n",
        "from abc import ABC,abstractmethod\n",
        "class Animal(ABC):\n",
        "  @abstractmethod\n",
        "  def sound(self):\n",
        "    pass\n",
        "class Cow(Animal):\n",
        "  def sound(self):\n",
        "    print(\"moo\")\n",
        "class Sheep(Animal):\n",
        "  def sound(self):\n",
        "    print(\"baa\")\n",
        "obj=Cow()\n",
        "obj.sound()"
      ],
      "metadata": {
        "id": "zbeX9KltNERU",
        "colab": {
          "base_uri": "https://localhost:8080/"
        },
        "outputId": "8f3f9755-0abb-4b8a-acaf-b109b72637d4"
      },
      "execution_count": 26,
      "outputs": [
        {
          "output_type": "stream",
          "name": "stdout",
          "text": [
            "moo\n"
          ]
        }
      ]
    },
    {
      "cell_type": "code",
      "source": [
        "#17. Create a class Book with attributes title, author, and year_published. Add a method get_book_info() that returns a formatted string with the book's details.\n",
        "class B:\n",
        "  def __init__(self,title,author,year_published):\n",
        "    self.title=title\n",
        "    self.author=author\n",
        "    self.year_published=year_published\n",
        "  def get_book_info(self):\n",
        "    print(f\"title is:,{self.title},year_published is:,{self.year_published},author is:,{self.author}\")\n",
        "obj=B(\"python\",\"razia\",2023)\n",
        "obj.get_book_info()"
      ],
      "metadata": {
        "id": "HlVyAbcjNEUP",
        "colab": {
          "base_uri": "https://localhost:8080/"
        },
        "outputId": "b3a16a0e-9452-43ed-ae48-e01dbccb878b"
      },
      "execution_count": 27,
      "outputs": [
        {
          "output_type": "stream",
          "name": "stdout",
          "text": [
            "title is:,python,year_published is:,2023,author is:,razia\n"
          ]
        }
      ]
    },
    {
      "cell_type": "code",
      "source": [
        "#18. Create a class House with attributes address and price. Create a derived class Mansion that adds an attribute number_of_rooms\n",
        "class House:\n",
        "    def __init__(self, address, price):\n",
        "        self.address = address\n",
        "        self.price = price\n",
        "\n",
        "    def get_house_info(self):\n",
        "        print(f\"Address: {self.address}, Price: {self.price}\")\n",
        "\n",
        "class Mansion(House):\n",
        "    def __init__(self, address, price, number_of_rooms):\n",
        "        super().__init__(address, price)\n",
        "        self.number_of_rooms = number_of_rooms  # Fix indentation\n",
        "\n",
        "    def get_mansion_info(self):\n",
        "        print(f\"Address: {self.address}, Price: {self.price}, Number of rooms: {self.number_of_rooms}\")\n",
        "obj = House(\"Hyderabad\", 5000000)\n",
        "obj1 = Mansion(\"Hyderabad\", 5000000, 5)\n",
        "obj.get_house_info()\n",
        "obj1.get_mansion_info()\n",
        "\n",
        "\n",
        ""
      ],
      "metadata": {
        "id": "llos3FDZNEXV",
        "colab": {
          "base_uri": "https://localhost:8080/"
        },
        "outputId": "ca9874ca-08de-4242-a27c-aefd2489d007"
      },
      "execution_count": 32,
      "outputs": [
        {
          "output_type": "stream",
          "name": "stdout",
          "text": [
            "Address: Hyderabad, Price: 5000000\n",
            "Address: Hyderabad, Price: 5000000, Number of rooms: 5\n"
          ]
        }
      ]
    },
    {
      "cell_type": "markdown",
      "source": [],
      "metadata": {
        "id": "bExXqgPeK78_"
      }
    }
  ]
}